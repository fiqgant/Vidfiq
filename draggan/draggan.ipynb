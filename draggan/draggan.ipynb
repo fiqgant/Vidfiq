{
 "cells": [
  {
   "cell_type": "code",
   "execution_count": null,
   "metadata": {},
   "outputs": [],
   "source": [
    "%cd /content\n",
    "!git clone -b dev https://github.com/camenduru/DragGAN\n",
    "%cd /content/DragGAN\n",
    "!pip install -r requirements.txt\n",
    "!python gradio_app.py"
   ]
  }
 ],
 "metadata": {
  "language_info": {
   "name": "python"
  },
  "orig_nbformat": 4
 },
 "nbformat": 4,
 "nbformat_minor": 2
}
